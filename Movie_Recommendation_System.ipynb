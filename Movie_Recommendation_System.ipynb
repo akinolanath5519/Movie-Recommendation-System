{
  "nbformat": 4,
  "nbformat_minor": 0,
  "metadata": {
    "colab": {
      "provenance": [],
      "authorship_tag": "ABX9TyPqehfK4rPUk3uBdVBXiyis",
      "include_colab_link": true
    },
    "kernelspec": {
      "name": "python3",
      "display_name": "Python 3"
    },
    "language_info": {
      "name": "python"
    }
  },
  "cells": [
    {
      "cell_type": "markdown",
      "metadata": {
        "id": "view-in-github",
        "colab_type": "text"
      },
      "source": [
        "<a href=\"https://colab.research.google.com/github/akinolanath5519/Movie-Recommendation-System/blob/main/Movie_Recommendation_System.ipynb\" target=\"_parent\"><img src=\"https://colab.research.google.com/assets/colab-badge.svg\" alt=\"Open In Colab\"/></a>"
      ]
    },
    {
      "cell_type": "code",
      "execution_count": null,
      "metadata": {
        "id": "y8Zo-h52y_av"
      },
      "outputs": [],
      "source": [
        "import pandas as pd\n",
        "import numpy as np\n",
        "credits = pd.read_csv(\"tmdb_5000_credits.csv\")\n",
        "movies = pd.read_csv(\"tmdb_5000_movies.csv\")\n",
        "credits.head()\n",
        "movies.head()\n",
        "print(\"Credits:\",credits.shape)\n",
        "print(\"Movies Dataframe:\",movies.shape)\n",
        "credits_column_renamed = credits.rename(index=str, columns={\"movie_id\": \"id\"})\n",
        "movies_merge = movies.merge(credits_column_renamed, on='id')\n",
        "print(movies_merge.head())\n",
        "movies_cleaned = movies_merge.drop(columns=['homepage', 'title_x', 'title_y', 'status','production_countries'])\n",
        "print(movies_cleaned.head())\n",
        "print(movies_cleaned.info())\n",
        "print(movies_cleaned.head(1)['overview'])\n",
        "from sklearn.feature_extraction.text import TfidfVectorizer\n",
        "tfv = TfidfVectorizer(min_df=3,  max_features=None,\n",
        "            strip_accents='unicode', analyzer='word',token_pattern=r'\\w{1,}',\n",
        "            ngram_range=(1, 3),\n",
        "            stop_words = 'english')\n",
        "# Fitting the TF-IDF on the 'overview' text\n",
        "tfv_matrix = tfv.fit_transform(movies_cleaned_df['overview'])\n",
        "print(tfv_matrix)\n",
        "print(tfv_matrix.shape)\n",
        "from sklearn.metrics.pairwise import sigmoid_kernel\n",
        "\n",
        "# Compute the sigmoid kernel\n",
        "sig = sigmoid_kernel(tfv_matrix, tfv_matrix)\n",
        "print(sig[0])\n",
        "# Reverse mapping of indices and movie titles\n",
        "indices = pd.Series(movies_cleaned.index, index=movies_cleaned['original_title']).drop_duplicates()\n",
        "print(indices)\n",
        "print(indices['Newlyweds'])\n",
        "print(sig[4799])\n",
        "print(list(enumerate(sig[indices['Newlyweds']])))\n",
        "print(sorted(list(enumerate(sig[indices['Newlyweds']])), key=lambda x: x[1], reverse=True))\n",
        "def give_recomendations(title, sig=sig):\n",
        "    # Get the index corresponding to original_title\n",
        "    idx = indices[title]\n",
        "\n",
        "    # Get the pairwsie similarity scores\n",
        "    sig_scores = list(enumerate(sig[idx]))\n",
        "\n",
        "    # Sort the movies\n",
        "    sig_scores = sorted(sig_scores, key=lambda x: x[1], reverse=True)\n",
        "\n",
        "    # Scores of the 10 most similar movies\n",
        "    sig_scores = sig_scores[1:11]\n",
        "\n",
        "    # Movie indices\n",
        "    movie_indices = [i[0] for i in sig_scores]\n",
        "\n",
        "    # Top 10 most similar movies\n",
        "    return movies_cleaned['original_title'].iloc[movie_indices]"
      ]
    },
    {
      "cell_type": "code",
      "source": [],
      "metadata": {
        "id": "euVcACa-1RF4"
      },
      "execution_count": null,
      "outputs": []
    },
    {
      "cell_type": "code",
      "source": [],
      "metadata": {
        "id": "PMFVfvgA1RR6"
      },
      "execution_count": null,
      "outputs": []
    }
  ]
}